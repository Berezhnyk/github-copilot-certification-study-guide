{
 "cells": [
  {
   "cell_type": "markdown",
   "id": "bebb6ca0",
   "metadata": {},
   "source": [
    "# GitHub Copilot Data Analysis Practice\n",
    "\n",
    "This notebook demonstrates how to use GitHub Copilot for data analysis tasks. Use the generated sample data to practice prompt engineering and explore Copilot's capabilities.\n",
    "\n",
    "## Learning Objectives\n",
    "- Practice effective prompting for data analysis\n",
    "- Learn to leverage Copilot for exploratory data analysis\n",
    "- Understand how to provide context for better suggestions\n",
    "- Develop skills in Copilot-assisted visualization\n",
    "\n",
    "## Setup Instructions\n",
    "1. Ensure the sample data has been generated (run `generate_sample_data.py`)\n",
    "2. Install required packages: `pip install -r requirements.txt`\n",
    "3. Start exploring with Copilot assistance!"
   ]
  },
  {
   "cell_type": "markdown",
   "id": "1deef0ba",
   "metadata": {},
   "source": [
    "## 1. Data Loading and Initial Exploration\n",
    "\n",
    "Let's start by loading our e-commerce datasets and getting familiar with the data structure."
   ]
  },
  {
   "cell_type": "code",
   "execution_count": null,
   "id": "1be5191d",
   "metadata": {},
   "outputs": [],
   "source": [
    "# Import necessary libraries for data analysis and visualization\n",
    "import pandas as pd\n",
    "import numpy as np\n",
    "import matplotlib.pyplot as plt\n",
    "import seaborn as sns\n",
    "from datetime import datetime, timedelta\n",
    "import plotly.express as px\n",
    "import plotly.graph_objects as go\n",
    "from plotly.subplots import make_subplots\n",
    "\n",
    "# Set display options for better readability\n",
    "pd.set_option('display.max_columns', None)\n",
    "pd.set_option('display.width', None)\n",
    "pd.set_option('display.max_colwidth', 100)\n",
    "\n",
    "# Set plotting style\n",
    "plt.style.use('seaborn-v0_8')\n",
    "sns.set_palette(\"husl\")"
   ]
  },
  {
   "cell_type": "code",
   "execution_count": null,
   "id": "303d8799",
   "metadata": {},
   "outputs": [],
   "source": [
    "# Load all datasets from the sample-data directory\n",
    "# Use descriptive variable names to help Copilot understand the context\n",
    "\n",
    "# Customer data: demographics, preferences, and segmentation\n",
    "customers_df = pd.read_csv('sample-data/customers.csv')\n",
    "\n",
    "# Product catalog: items, categories, pricing, and inventory\n",
    "products_df = pd.read_csv('sample-data/products.csv')\n",
    "\n",
    "# Order transactions: customer purchases with dates and totals\n",
    "orders_df = pd.read_csv('sample-data/orders.csv')\n",
    "\n",
    "# Order line items: detailed breakdown of each order\n",
    "order_items_df = pd.read_csv('sample-data/order_items.csv')\n",
    "\n",
    "# Website analytics: user behavior and traffic patterns\n",
    "analytics_df = pd.read_csv('sample-data/website_analytics.csv')\n",
    "\n",
    "# Customer support: service tickets and resolution data\n",
    "support_df = pd.read_csv('sample-data/support_tickets.csv')\n",
    "\n",
    "print(\"📊 Datasets loaded successfully!\")\n",
    "print(f\"Customers: {len(customers_df):,} records\")\n",
    "print(f\"Products: {len(products_df):,} records\")\n",
    "print(f\"Orders: {len(orders_df):,} records\")\n",
    "print(f\"Order Items: {len(order_items_df):,} records\")\n",
    "print(f\"Analytics: {len(analytics_df):,} records\")\n",
    "print(f\"Support Tickets: {len(support_df):,} records\")"
   ]
  },
  {
   "cell_type": "markdown",
   "id": "ec62b6cc",
   "metadata": {},
   "source": [
    "## 2. Copilot Practice: Dataset Overview Function\n",
    "\n",
    "**Prompt Engineering Exercise**: Write a comment describing what you want, then let Copilot suggest the implementation."
   ]
  },
  {
   "cell_type": "code",
   "execution_count": null,
   "id": "5c5cfbe0",
   "metadata": {},
   "outputs": [],
   "source": [
    "# Create a comprehensive dataset overview function that:\n",
    "# - Shows shape, column names, and data types\n",
    "# - Identifies missing values and their percentages\n",
    "# - Displays basic statistics for numerical columns\n",
    "# - Shows unique value counts for categorical columns\n",
    "# - Generates a summary report\n",
    "\n",
    "def analyze_dataset_overview(df, dataset_name):\n",
    "    # Let Copilot implement this function\n",
    "    pass"
   ]
  },
  {
   "cell_type": "code",
   "execution_count": null,
   "id": "88c2ed08",
   "metadata": {},
   "outputs": [],
   "source": [
    "# Test the function with our datasets\n",
    "analyze_dataset_overview(customers_df, \"Customers\")"
   ]
  },
  {
   "cell_type": "markdown",
   "id": "35dd9ee4",
   "metadata": {},
   "source": [
    "## 3. Customer Segmentation Analysis\n",
    "\n",
    "**Copilot Challenge**: Analyze customer segments and their characteristics."
   ]
  },
  {
   "cell_type": "code",
   "execution_count": null,
   "id": "4f32989c",
   "metadata": {},
   "outputs": [],
   "source": [
    "# Analyze customer segments (Bronze, Silver, Gold, Platinum)\n",
    "# Calculate metrics for each segment:\n",
    "# - Average age and gender distribution\n",
    "# - Preferred categories and geographic distribution\n",
    "# - Registration patterns over time\n",
    "# Create visualizations to compare segments\n",
    "\n",
    "def analyze_customer_segments(customers_df):\n",
    "    # Let Copilot suggest the analysis approach\n",
    "    pass"
   ]
  },
  {
   "cell_type": "markdown",
   "id": "e38ce4f0",
   "metadata": {},
   "source": [
    "## 4. Sales Performance Dashboard\n",
    "\n",
    "**Advanced Copilot Usage**: Create an interactive dashboard with multiple visualizations."
   ]
  },
  {
   "cell_type": "code",
   "execution_count": null,
   "id": "4126c900",
   "metadata": {},
   "outputs": [],
   "source": [
    "# Create a comprehensive sales dashboard that includes:\n",
    "# 1. Monthly revenue trends with year-over-year comparison\n",
    "# 2. Top-performing products and categories\n",
    "# 3. Customer acquisition and retention metrics\n",
    "# 4. Geographic sales distribution\n",
    "# 5. Average order value trends\n",
    "# Use plotly for interactive visualizations\n",
    "\n",
    "def create_sales_dashboard(orders_df, order_items_df, customers_df, products_df):\n",
    "    # Let Copilot build the dashboard\n",
    "    pass"
   ]
  },
  {
   "cell_type": "markdown",
   "id": "f22f0e55",
   "metadata": {},
   "source": [
    "## 5. Predictive Analytics with Copilot\n",
    "\n",
    "**Machine Learning Practice**: Use Copilot to help build predictive models."
   ]
  },
  {
   "cell_type": "code",
   "execution_count": null,
   "id": "59a5a098",
   "metadata": {},
   "outputs": [],
   "source": [
    "# Build a customer lifetime value (CLV) prediction model\n",
    "# Features to consider:\n",
    "# - Customer demographics (age, location, segment)\n",
    "# - Purchase behavior (frequency, recency, monetary value)\n",
    "# - Website engagement (analytics data)\n",
    "# - Support interactions (tickets and satisfaction)\n",
    "# Use multiple algorithms and compare performance\n",
    "\n",
    "from sklearn.model_selection import train_test_split\n",
    "from sklearn.ensemble import RandomForestRegressor, GradientBoostingRegressor\n",
    "from sklearn.linear_model import LinearRegression\n",
    "from sklearn.metrics import mean_squared_error, r2_score\n",
    "from sklearn.preprocessing import StandardScaler, LabelEncoder\n",
    "\n",
    "def build_clv_prediction_model(customers_df, orders_df, order_items_df, analytics_df, support_df):\n",
    "    # Let Copilot guide the feature engineering and model building\n",
    "    pass"
   ]
  },
  {
   "cell_type": "markdown",
   "id": "601f9ffb",
   "metadata": {},
   "source": [
    "## 6. Advanced Analytics: Cohort Analysis\n",
    "\n",
    "**Complex Analysis with Copilot**: Perform cohort analysis to understand customer retention."
   ]
  },
  {
   "cell_type": "code",
   "execution_count": null,
   "id": "502a14fd",
   "metadata": {},
   "outputs": [],
   "source": [
    "# Perform cohort analysis to understand customer retention patterns:\n",
    "# 1. Group customers by their first purchase month (cohorts)\n",
    "# 2. Track purchase behavior over subsequent months\n",
    "# 3. Calculate retention rates for each cohort\n",
    "# 4. Visualize retention heatmap\n",
    "# 5. Identify patterns and insights\n",
    "\n",
    "def perform_cohort_analysis(orders_df, customers_df):\n",
    "    # Let Copilot implement the cohort analysis\n",
    "    pass"
   ]
  },
  {
   "cell_type": "markdown",
   "id": "fb24abd9",
   "metadata": {},
   "source": [
    "## 7. Real-time Analytics Simulation\n",
    "\n",
    "**Streaming Data Practice**: Simulate real-time data processing with Copilot assistance."
   ]
  },
  {
   "cell_type": "code",
   "execution_count": null,
   "id": "0ddf7cca",
   "metadata": {},
   "outputs": [],
   "source": [
    "# Simulate real-time analytics dashboard that processes streaming data:\n",
    "# - Real-time sales monitoring\n",
    "# - Alert system for unusual patterns\n",
    "# - Live customer behavior tracking\n",
    "# - Performance metrics updating\n",
    "# Use threading and time delays to simulate streaming\n",
    "\n",
    "import threading\n",
    "import time\n",
    "from IPython.display import clear_output\n",
    "\n",
    "def simulate_realtime_analytics(orders_df, analytics_df):\n",
    "    # Let Copilot create the real-time simulation\n",
    "    pass"
   ]
  },
  {
   "cell_type": "markdown",
   "id": "920eaff8",
   "metadata": {},
   "source": [
    "## 8. Copilot Prompt Engineering Exercises\n",
    "\n",
    "Practice different prompting techniques and observe how Copilot responds."
   ]
  },
  {
   "cell_type": "code",
   "execution_count": null,
   "id": "7bc17d23",
   "metadata": {},
   "outputs": [],
   "source": [
    "# Exercise 1: Vague prompt\n",
    "# \"Analyze the data\"\n",
    "# Observe what Copilot suggests with minimal context\n",
    "\n",
    "def analyze_data():\n",
    "    pass"
   ]
  },
  {
   "cell_type": "code",
   "execution_count": null,
   "id": "31cd1d52",
   "metadata": {},
   "outputs": [],
   "source": [
    "# Exercise 2: Specific prompt with context\n",
    "# \"Calculate monthly recurring revenue (MRR) for the e-commerce business\n",
    "# using order data, considering customer subscription patterns and repeat purchases\n",
    "# Return results as pandas DataFrame with months as index\"\n",
    "\n",
    "def calculate_monthly_recurring_revenue(orders_df, order_items_df):\n",
    "    pass"
   ]
  },
  {
   "cell_type": "code",
   "execution_count": null,
   "id": "10070693",
   "metadata": {},
   "outputs": [],
   "source": [
    "# Exercise 3: Example-driven prompt\n",
    "# \"Create a function that calculates customer health score\n",
    "# Example: customer_health_score(customer_id='CUST_000001') should return:\n",
    "# {\n",
    "#     'health_score': 85,\n",
    "#     'factors': {\n",
    "#         'purchase_frequency': 90,\n",
    "#         'order_value': 80,\n",
    "#         'support_satisfaction': 85,\n",
    "#         'engagement': 88\n",
    "#     },\n",
    "#     'risk_level': 'low'\n",
    "# }\"\n",
    "\n",
    "def calculate_customer_health_score(customer_id, orders_df, support_df, analytics_df):\n",
    "    pass"
   ]
  },
  {
   "cell_type": "markdown",
   "id": "27662880",
   "metadata": {},
   "source": [
    "## 9. Data Quality Assessment\n",
    "\n",
    "Use Copilot to help identify and handle data quality issues."
   ]
  },
  {
   "cell_type": "code",
   "execution_count": null,
   "id": "7a5eac79",
   "metadata": {},
   "outputs": [],
   "source": [
    "# Comprehensive data quality assessment function that:\n",
    "# - Detects missing values and patterns\n",
    "# - Identifies potential duplicates\n",
    "# - Finds outliers using statistical methods\n",
    "# - Validates data consistency across related tables\n",
    "# - Suggests data cleaning strategies\n",
    "# - Generates a quality report with recommendations\n",
    "\n",
    "def assess_data_quality(dataframes_dict):\n",
    "    \"\"\"\n",
    "    dataframes_dict: Dictionary with dataset names as keys and DataFrames as values\n",
    "    Example: {'customers': customers_df, 'orders': orders_df, ...}\n",
    "    \"\"\"\n",
    "    # Let Copilot implement comprehensive data quality checks\n",
    "    pass"
   ]
  },
  {
   "cell_type": "markdown",
   "id": "98c55814",
   "metadata": {},
   "source": [
    "## 10. Performance Optimization with Copilot\n",
    "\n",
    "Learn how to optimize data processing operations with Copilot's help."
   ]
  },
  {
   "cell_type": "code",
   "execution_count": null,
   "id": "707e3083",
   "metadata": {},
   "outputs": [],
   "source": [
    "# Create a slow, inefficient function first\n",
    "def slow_customer_summary(customers_df, orders_df):\n",
    "    \"\"\"Intentionally inefficient implementation for optimization practice\"\"\"\n",
    "    results = []\n",
    "    for _, customer in customers_df.iterrows():\n",
    "        customer_orders = orders_df[orders_df['customer_id'] == customer['customer_id']]\n",
    "        total_spent = customer_orders['total_amount'].sum()\n",
    "        order_count = len(customer_orders)\n",
    "        avg_order_value = total_spent / order_count if order_count > 0 else 0\n",
    "        results.append({\n",
    "            'customer_id': customer['customer_id'],\n",
    "            'total_spent': total_spent,\n",
    "            'order_count': order_count,\n",
    "            'avg_order_value': avg_order_value\n",
    "        })\n",
    "    return pd.DataFrame(results)\n",
    "\n",
    "# Now ask Copilot to optimize this function\n",
    "# \"Optimize the above function for better performance using pandas vectorized operations\n",
    "# and groupby functionality. The optimized version should be significantly faster.\"\n",
    "\n",
    "def optimized_customer_summary(customers_df, orders_df):\n",
    "    # Let Copilot suggest the optimized implementation\n",
    "    pass"
   ]
  },
  {
   "cell_type": "markdown",
   "id": "746b889a",
   "metadata": {},
   "source": [
    "## 11. Advanced Visualization Gallery\n",
    "\n",
    "Create a collection of sophisticated visualizations with Copilot assistance."
   ]
  },
  {
   "cell_type": "code",
   "execution_count": null,
   "id": "069b3db6",
   "metadata": {},
   "outputs": [],
   "source": [
    "# Create an advanced visualization gallery with:\n",
    "# 1. Animated time series plots showing business growth\n",
    "# 2. Interactive geographic heatmaps of customer distribution\n",
    "# 3. Sankey diagrams showing customer journey flows\n",
    "# 4. Radar charts comparing customer segments\n",
    "# 5. Correlation matrix heatmaps with hierarchical clustering\n",
    "# 6. Box plots with statistical annotations\n",
    "# 7. Custom styled dashboards with corporate branding\n",
    "\n",
    "def create_visualization_gallery(customers_df, orders_df, order_items_df, products_df, analytics_df):\n",
    "    # Let Copilot create impressive visualizations\n",
    "    pass"
   ]
  },
  {
   "cell_type": "markdown",
   "id": "e1a565ec",
   "metadata": {},
   "source": [
    "## 12. Automated Report Generation\n",
    "\n",
    "Use Copilot to generate comprehensive business reports."
   ]
  },
  {
   "cell_type": "code",
   "execution_count": null,
   "id": "e12ea6c9",
   "metadata": {},
   "outputs": [],
   "source": [
    "# Generate automated business intelligence reports with:\n",
    "# - Executive summary with key metrics\n",
    "# - Detailed analysis sections\n",
    "# - Visualizations embedded in narrative\n",
    "# - Actionable recommendations\n",
    "# - Export options (HTML, PDF, PowerPoint)\n",
    "# Use natural language generation techniques\n",
    "\n",
    "def generate_business_report(all_dataframes, report_date, report_type='monthly'):\n",
    "    \"\"\"\n",
    "    Generate comprehensive business intelligence report\n",
    "    \n",
    "    Parameters:\n",
    "    - all_dataframes: dict containing all datasets\n",
    "    - report_date: datetime object for report period\n",
    "    - report_type: 'daily', 'weekly', 'monthly', or 'quarterly'\n",
    "    \n",
    "    Returns:\n",
    "    - Formatted report with insights and recommendations\n",
    "    \"\"\"\n",
    "    # Let Copilot create the automated reporting system\n",
    "    pass"
   ]
  },
  {
   "cell_type": "markdown",
   "id": "153baa6d",
   "metadata": {},
   "source": [
    "## Summary and Next Steps\n",
    "\n",
    "🎯 **Key Learning Points:**\n",
    "1. **Context is King**: More specific prompts yield better results\n",
    "2. **Iterative Development**: Build complexity gradually with Copilot\n",
    "3. **Review and Refine**: Always validate Copilot's suggestions\n",
    "4. **Domain Knowledge**: Your expertise guides Copilot's assistance\n",
    "\n",
    "🚀 **Practice Recommendations:**\n",
    "- Try different prompting styles and compare results\n",
    "- Experiment with various data analysis scenarios\n",
    "- Use Copilot for both exploration and production code\n",
    "- Build your own analysis projects with real datasets\n",
    "\n",
    "📚 **Additional Resources:**\n",
    "- [GitHub Copilot Documentation](https://docs.github.com/en/copilot)\n",
    "- [Advanced Prompt Engineering Guide](../study-materials/02-prompt-engineering.md)\n",
    "- [Certification Practice Tests](../mock-questions/)\n",
    "\n",
    "Good luck with your GitHub Copilot certification! 🌟"
   ]
  }
 ],
 "metadata": {
  "language_info": {
   "name": "python"
  }
 },
 "nbformat": 4,
 "nbformat_minor": 5
}
